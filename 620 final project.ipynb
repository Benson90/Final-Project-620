{
 "cells": [
  {
   "cell_type": "markdown",
   "id": "9adfbb8b",
   "metadata": {},
   "source": [
    "DATA 620 Final Project\n",
    "\n",
    "Amazon Software Reviews\n",
    "Benson Toi, Noah Collin, Ahmed Elsaeyed\n",
    "\n",
    "Data source: https://nijianmo.github.io/amazon/index.html\n",
    "\n",
    "This is a sentiment analyisis of Amazon reviews of software from 1998-2015\n"
   ]
  },
  {
   "cell_type": "code",
   "execution_count": 1,
   "id": "9cd5392a",
   "metadata": {},
   "outputs": [],
   "source": [
    "#conda install -c conda-forge spacy"
   ]
  },
  {
   "cell_type": "code",
   "execution_count": 2,
   "id": "883ab13f",
   "metadata": {},
   "outputs": [
    {
     "name": "stderr",
     "output_type": "stream",
     "text": [
      "2022-07-17 22:15:22.275679: I tensorflow/core/platform/cpu_feature_guard.cc:193] This TensorFlow binary is optimized with oneAPI Deep Neural Network Library (oneDNN) to use the following CPU instructions in performance-critical operations:  AVX2 FMA\n",
      "To enable them in other operations, rebuild TensorFlow with the appropriate compiler flags.\n"
     ]
    }
   ],
   "source": [
    "import pandas as pd\n",
    "import re\n",
    "import matplotlib.pyplot as plt\n",
    "from datetime import datetime\n",
    "import seaborn as sns\n",
    "\n",
    "import string\n",
    "\n",
    "import nltk\n",
    "from nltk.corpus import stopwords\n",
    "from nltk.tokenize import word_tokenize\n",
    "from nltk.stem import SnowballStemmer\n",
    "from nltk.corpus import wordnet\n",
    "from nltk import pos_tag\n",
    "from nltk.stem import WordNetLemmatizer\n",
    "\n",
    "import spacy\n",
    "from wordcloud import WordCloud, STOPWORDS, ImageColorGenerator\n",
    "\n",
    "from spacy.tokens import Token\n",
    "\n",
    "import nltk\n",
    "#nltk.download('averaged_perceptron_tagger')\n",
    "#nltk.download('wordnet')\n",
    "#nltk.download('omw-1.4')\n",
    "\n",
    "!pip install -q tensorflow-text\n",
    "import tensorflow_text as text\n",
    "import tensorflow_hub as hub\n",
    "\n",
    "# Below the code, it's a Universal Sentence Encoder where any text can be converted into tensors easily\n",
    "USE = hub.load(\"https://tfhub.dev/google/universal-sentence-encoder-multilingual-large/3\")"
   ]
  },
  {
   "cell_type": "code",
   "execution_count": 3,
   "id": "31610a5b",
   "metadata": {},
   "outputs": [
    {
     "name": "stdout",
     "output_type": "stream",
     "text": [
      "Pandas version: 1.4.2\n",
      "Seaborn version: 0.11.2\n"
     ]
    }
   ],
   "source": [
    "print(\"Pandas version: {}\".format(pd.__version__))\n",
    "#print(\"datetime version: {}\".format(datetime.__version__))\n",
    "print(\"Seaborn version: {}\".format(sns.__version__))"
   ]
  },
  {
   "cell_type": "code",
   "execution_count": 4,
   "id": "5226cb22",
   "metadata": {},
   "outputs": [],
   "source": [
    "df = pd.read_json('Software.json',  lines=True) #lines equal true because the CSV has \\n chars"
   ]
  },
  {
   "cell_type": "code",
   "execution_count": 5,
   "id": "08a7ef06",
   "metadata": {},
   "outputs": [
    {
     "data": {
      "text/html": [
       "<div>\n",
       "<style scoped>\n",
       "    .dataframe tbody tr th:only-of-type {\n",
       "        vertical-align: middle;\n",
       "    }\n",
       "\n",
       "    .dataframe tbody tr th {\n",
       "        vertical-align: top;\n",
       "    }\n",
       "\n",
       "    .dataframe thead th {\n",
       "        text-align: right;\n",
       "    }\n",
       "</style>\n",
       "<table border=\"1\" class=\"dataframe\">\n",
       "  <thead>\n",
       "    <tr style=\"text-align: right;\">\n",
       "      <th></th>\n",
       "      <th>overall</th>\n",
       "      <th>verified</th>\n",
       "      <th>reviewTime</th>\n",
       "      <th>reviewerID</th>\n",
       "      <th>asin</th>\n",
       "      <th>style</th>\n",
       "      <th>reviewerName</th>\n",
       "      <th>reviewText</th>\n",
       "      <th>summary</th>\n",
       "      <th>unixReviewTime</th>\n",
       "      <th>vote</th>\n",
       "      <th>image</th>\n",
       "    </tr>\n",
       "  </thead>\n",
       "  <tbody>\n",
       "    <tr>\n",
       "      <th>0</th>\n",
       "      <td>4</td>\n",
       "      <td>True</td>\n",
       "      <td>03 11, 2014</td>\n",
       "      <td>A240ORQ2LF9LUI</td>\n",
       "      <td>0077613252</td>\n",
       "      <td>{'Format:': ' Loose Leaf'}</td>\n",
       "      <td>Michelle W</td>\n",
       "      <td>The materials arrived early and were in excell...</td>\n",
       "      <td>Material Great</td>\n",
       "      <td>1394496000</td>\n",
       "      <td>NaN</td>\n",
       "      <td>NaN</td>\n",
       "    </tr>\n",
       "    <tr>\n",
       "      <th>1</th>\n",
       "      <td>4</td>\n",
       "      <td>True</td>\n",
       "      <td>02 23, 2014</td>\n",
       "      <td>A1YCCU0YRLS0FE</td>\n",
       "      <td>0077613252</td>\n",
       "      <td>{'Format:': ' Loose Leaf'}</td>\n",
       "      <td>Rosalind White Ames</td>\n",
       "      <td>I am really enjoying this book with the worksh...</td>\n",
       "      <td>Health</td>\n",
       "      <td>1393113600</td>\n",
       "      <td>NaN</td>\n",
       "      <td>NaN</td>\n",
       "    </tr>\n",
       "    <tr>\n",
       "      <th>2</th>\n",
       "      <td>1</td>\n",
       "      <td>True</td>\n",
       "      <td>02 17, 2014</td>\n",
       "      <td>A1BJHRQDYVAY2J</td>\n",
       "      <td>0077613252</td>\n",
       "      <td>{'Format:': ' Loose Leaf'}</td>\n",
       "      <td>Allan R. Baker</td>\n",
       "      <td>IF YOU ARE TAKING THIS CLASS DON\"T WASTE YOUR ...</td>\n",
       "      <td>ARE YOU KIDING ME?</td>\n",
       "      <td>1392595200</td>\n",
       "      <td>7</td>\n",
       "      <td>NaN</td>\n",
       "    </tr>\n",
       "  </tbody>\n",
       "</table>\n",
       "</div>"
      ],
      "text/plain": [
       "   overall  verified   reviewTime      reviewerID        asin  \\\n",
       "0        4      True  03 11, 2014  A240ORQ2LF9LUI  0077613252   \n",
       "1        4      True  02 23, 2014  A1YCCU0YRLS0FE  0077613252   \n",
       "2        1      True  02 17, 2014  A1BJHRQDYVAY2J  0077613252   \n",
       "\n",
       "                        style         reviewerName  \\\n",
       "0  {'Format:': ' Loose Leaf'}           Michelle W   \n",
       "1  {'Format:': ' Loose Leaf'}  Rosalind White Ames   \n",
       "2  {'Format:': ' Loose Leaf'}       Allan R. Baker   \n",
       "\n",
       "                                          reviewText             summary  \\\n",
       "0  The materials arrived early and were in excell...      Material Great   \n",
       "1  I am really enjoying this book with the worksh...              Health   \n",
       "2  IF YOU ARE TAKING THIS CLASS DON\"T WASTE YOUR ...  ARE YOU KIDING ME?   \n",
       "\n",
       "   unixReviewTime vote image  \n",
       "0      1394496000  NaN   NaN  \n",
       "1      1393113600  NaN   NaN  \n",
       "2      1392595200    7   NaN  "
      ]
     },
     "execution_count": 5,
     "metadata": {},
     "output_type": "execute_result"
    }
   ],
   "source": [
    "df.head(3)"
   ]
  },
  {
   "cell_type": "code",
   "execution_count": 6,
   "id": "14ecbe16",
   "metadata": {},
   "outputs": [
    {
     "data": {
      "text/plain": [
       "'2014-03-11 00:00:00'"
      ]
     },
     "execution_count": 6,
     "metadata": {},
     "output_type": "execute_result"
    }
   ],
   "source": [
    "def HumanTime (x):\n",
    "    return datetime.utcfromtimestamp(x).strftime('%Y-%m-%d %H:%M:%S')\n",
    "\n",
    "HumanTime(df['unixReviewTime'][0])"
   ]
  },
  {
   "cell_type": "code",
   "execution_count": 7,
   "id": "ce0083cb",
   "metadata": {},
   "outputs": [
    {
     "data": {
      "text/plain": [
       "0    2014-03-11 00:00:00\n",
       "1    2014-02-23 00:00:00\n",
       "2    2014-02-17 00:00:00\n",
       "Name: ReviewTime, dtype: object"
      ]
     },
     "execution_count": 7,
     "metadata": {},
     "output_type": "execute_result"
    }
   ],
   "source": [
    "df['ReviewTime']=df.unixReviewTime.apply(HumanTime)\n",
    "df['ReviewTime'].head(3)"
   ]
  },
  {
   "cell_type": "code",
   "execution_count": 8,
   "id": "6b5a2e8a",
   "metadata": {},
   "outputs": [
    {
     "data": {
      "text/plain": [
       "2015    86324\n",
       "2014    77348\n",
       "2016    66786\n",
       "2013    46663\n",
       "2017    29350\n",
       "2012    22894\n",
       "2009    20000\n",
       "2008    17735\n",
       "2011    17061\n",
       "2010    15185\n",
       "2007    13962\n",
       "2018    13123\n",
       "2006     8486\n",
       "2005     6724\n",
       "2004     4685\n",
       "2003     4681\n",
       "2002     4144\n",
       "2001     2833\n",
       "2000     1326\n",
       "1999      125\n",
       "1998        1\n",
       "Name: Year, dtype: int64"
      ]
     },
     "execution_count": 8,
     "metadata": {},
     "output_type": "execute_result"
    }
   ],
   "source": [
    "df['Year'] = df['ReviewTime'].apply(lambda x: int(re.findall (\"\\d+\", x)[0]))\n",
    "df['Year'].value_counts()"
   ]
  },
  {
   "cell_type": "code",
   "execution_count": 9,
   "id": "e5c1e9f7",
   "metadata": {},
   "outputs": [
    {
     "data": {
      "text/plain": [
       "count     459370\n",
       "unique    421432\n",
       "top         good\n",
       "freq         811\n",
       "Name: reviewText, dtype: object"
      ]
     },
     "execution_count": 9,
     "metadata": {},
     "output_type": "execute_result"
    }
   ],
   "source": [
    "df.reviewText.describe()"
   ]
  },
  {
   "cell_type": "code",
   "execution_count": 10,
   "id": "80033092",
   "metadata": {},
   "outputs": [
    {
     "data": {
      "text/plain": [
       "count         459380\n",
       "unique        286888\n",
       "top       Five Stars\n",
       "freq           51188\n",
       "Name: summary, dtype: object"
      ]
     },
     "execution_count": 10,
     "metadata": {},
     "output_type": "execute_result"
    }
   ],
   "source": [
    "df.summary.describe()"
   ]
  },
  {
   "cell_type": "code",
   "execution_count": 11,
   "id": "3574b1ff",
   "metadata": {},
   "outputs": [
    {
     "data": {
      "text/plain": [
       "5    212452\n",
       "1    102548\n",
       "4     73596\n",
       "3     39395\n",
       "2     31445\n",
       "Name: overall, dtype: int64"
      ]
     },
     "execution_count": 11,
     "metadata": {},
     "output_type": "execute_result"
    }
   ],
   "source": [
    "df.overall.value_counts()"
   ]
  },
  {
   "cell_type": "code",
   "execution_count": 12,
   "id": "fc98dd0b",
   "metadata": {},
   "outputs": [
    {
     "data": {
      "text/plain": [
       "count    459436.000000\n",
       "mean          3.570175\n",
       "std           1.626662\n",
       "min           1.000000\n",
       "25%           2.000000\n",
       "50%           4.000000\n",
       "75%           5.000000\n",
       "max           5.000000\n",
       "Name: overall, dtype: float64"
      ]
     },
     "execution_count": 12,
     "metadata": {},
     "output_type": "execute_result"
    }
   ],
   "source": [
    "df.overall.describe()"
   ]
  },
  {
   "cell_type": "code",
   "execution_count": 13,
   "id": "314e12ce",
   "metadata": {},
   "outputs": [
    {
     "data": {
      "text/plain": [
       "[Text(0.5, 1.0, 'Distribution of reviews for Software'),\n",
       " Text(0.5, 0, 'Review Score')]"
      ]
     },
     "execution_count": 13,
     "metadata": {},
     "output_type": "execute_result"
    },
    {
     "data": {
      "image/png": "[encoded data removed]",
      "text/plain": [
       "<Figure size 432x288 with 1 Axes>"
      ]
     },
     "metadata": {},
     "output_type": "display_data"
    }
   ],
   "source": [
    "sns.set(style=\"darkgrid\")\n",
    "sns.histplot(df['overall']).set(title = \"Distribution of reviews for Software\",\n",
    "                                        xlabel = 'Review Score')"
   ]
  },
  {
   "cell_type": "code",
   "execution_count": 14,
   "id": "fdf08699",
   "metadata": {},
   "outputs": [
    {
     "data": {
      "text/plain": [
       "(102548, 14)"
      ]
     },
     "execution_count": 14,
     "metadata": {},
     "output_type": "execute_result"
    }
   ],
   "source": [
    "oneStarReviews = df[df['overall']==1]\n",
    "oneStarReviews.shape"
   ]
  },
  {
   "cell_type": "code",
   "execution_count": 15,
   "id": "31e72884",
   "metadata": {},
   "outputs": [],
   "source": [
    "twoStarReviews = df[df['overall']==2]\n",
    "threeStarReviews = df[df['overall']==3]\n",
    "fourStarReviews = df[df['overall']==4]\n",
    "fiveStarReviews = df[df['overall']==5]"
   ]
  },
  {
   "cell_type": "markdown",
   "id": "fd2c67c7",
   "metadata": {},
   "source": [
    "## Benson"
   ]
  },
  {
   "cell_type": "markdown",
   "id": "450a7744",
   "metadata": {},
   "source": [
    "## create dataframe with min variable. "
   ]
  },
  {
   "cell_type": "code",
   "execution_count": 16,
   "id": "7dcc7e36",
   "metadata": {},
   "outputs": [
    {
     "data": {
      "text/html": [
       "<div>\n",
       "<style scoped>\n",
       "    .dataframe tbody tr th:only-of-type {\n",
       "        vertical-align: middle;\n",
       "    }\n",
       "\n",
       "    .dataframe tbody tr th {\n",
       "        vertical-align: top;\n",
       "    }\n",
       "\n",
       "    .dataframe thead th {\n",
       "        text-align: right;\n",
       "    }\n",
       "</style>\n",
       "<table border=\"1\" class=\"dataframe\">\n",
       "  <thead>\n",
       "    <tr style=\"text-align: right;\">\n",
       "      <th></th>\n",
       "      <th>reviewText</th>\n",
       "      <th>overall</th>\n",
       "    </tr>\n",
       "  </thead>\n",
       "  <tbody>\n",
       "    <tr>\n",
       "      <th>0</th>\n",
       "      <td>The materials arrived early and were in excell...</td>\n",
       "      <td>4</td>\n",
       "    </tr>\n",
       "    <tr>\n",
       "      <th>1</th>\n",
       "      <td>I am really enjoying this book with the worksh...</td>\n",
       "      <td>4</td>\n",
       "    </tr>\n",
       "    <tr>\n",
       "      <th>2</th>\n",
       "      <td>IF YOU ARE TAKING THIS CLASS DON\"T WASTE YOUR ...</td>\n",
       "      <td>1</td>\n",
       "    </tr>\n",
       "    <tr>\n",
       "      <th>3</th>\n",
       "      <td>This book was missing pages!!! Important pages...</td>\n",
       "      <td>3</td>\n",
       "    </tr>\n",
       "    <tr>\n",
       "      <th>4</th>\n",
       "      <td>I have used LearnSmart and can officially say ...</td>\n",
       "      <td>5</td>\n",
       "    </tr>\n",
       "  </tbody>\n",
       "</table>\n",
       "</div>"
      ],
      "text/plain": [
       "                                          reviewText  overall\n",
       "0  The materials arrived early and were in excell...        4\n",
       "1  I am really enjoying this book with the worksh...        4\n",
       "2  IF YOU ARE TAKING THIS CLASS DON\"T WASTE YOUR ...        1\n",
       "3  This book was missing pages!!! Important pages...        3\n",
       "4  I have used LearnSmart and can officially say ...        5"
      ]
     },
     "execution_count": 16,
     "metadata": {},
     "output_type": "execute_result"
    }
   ],
   "source": [
    "df_rating = df[[\"reviewText\",\"overall\"]]\n",
    "df_rating.head()"
   ]
  },
  {
   "cell_type": "code",
   "execution_count": 17,
   "id": "c17eeacf",
   "metadata": {},
   "outputs": [
    {
     "name": "stdout",
     "output_type": "stream",
     "text": [
      "REVIEW TEXT:\n",
      "cool \n",
      "\n",
      "RATE:\n",
      "4\n",
      "\n",
      " ------------------------------------------------------------------------------------------ \n",
      "\n",
      "REVIEW TEXT:\n",
      "thanks \n",
      "\n",
      "RATE:\n",
      "5\n",
      "\n",
      " ------------------------------------------------------------------------------------------ \n",
      "\n",
      "REVIEW TEXT:\n",
      "I purchased this product and installed it on my desktop computer.  Since the CD/DVD drive on my laptop is not working I tried to download the software from the CyberLink website.  Their customer service is the WORST!!!  I have been unable to get an answer to my question, as to is this a \"one time use product\", or do I OWN it now that I have purchased it?  Since I have the product key, why can't I download it to my laptop?!  You have to PAY them to talk to someone on the phone!!  I have never heard of such a thing!!  I WAS going to purchase their photo editing software, but I won't bother now.  Do not waste your money on this product!!  If you want excellent video editing software at a reasonable price, then check out Magix Movie Edit Pro MX. \n",
      "\n",
      "RATE:\n",
      "2\n",
      "\n",
      " ------------------------------------------------------------------------------------------ \n",
      "\n",
      "REVIEW TEXT:\n",
      "Been using the for many years. I prefer the portable version that is available on their website. \n",
      "\n",
      "RATE:\n",
      "5\n",
      "\n",
      " ------------------------------------------------------------------------------------------ \n",
      "\n",
      "REVIEW TEXT:\n",
      "I've been using Norton Anti-Virus in its many incarnations for over 5 years. Norton Internet Security 2004 is one of the more buggy implementations. Even for computer super-heros it's a pain to maintain when there is a problem.\n",
      "Bad:\n",
      "Buggy program: I've had random Norton crashes forcing a reinstall of the product, not just once, but five times total on two separate systems. The uninstall/reinstall is a huge headache as others have pointed out.\n",
      "Accounts: If you are the only user that logs in on the computer and don't have children using the computer, don't install \"accounts\" (or parental control). It's very buggy. You must be logged in as the Windows administrator and as the Norton administrator to make changes to the Internet Security portion, and even then it's hit or miss.\n",
      "Privacy Control: The ad-blocking blocks many websites, some which you may wish to view. The screens to make changes are well hidden in Norton's configuration menus (here's a helpful hint: Privacy Control > Configure > Advanced > Add Site - type in website that has blocked features, check or uncheck desired features). Very unfriendly user design for such a popular consumer software product.\n",
      "So-so:\n",
      "Firewall: Getting better, hard to understand for basic users, not enough features for advanced users.\n",
      "LiveUpdate is an essential feature to NIS. Symantec now charges an annual subscription fee for anti-virus definitions & program updates after the first year. The subscription implementation is one of the reasons it is so hard to completely uninstall the program.\n",
      "Good:\n",
      "Anti-Spam - Up-to-date and catches most everything bad. Norton Anti-Spam was compared in a major tech magazine column with other popular anti-spam technologies and won the editors' pick.\n",
      "Anti-Virus - Extremely up-to-date. This is what they do best and continue to do it well. (Aside from the buggy program issues). Has paid for cost of subscription over and over again. \n",
      "\n",
      "RATE:\n",
      "2\n",
      "\n",
      " ------------------------------------------------------------------------------------------ \n",
      "\n"
     ]
    }
   ],
   "source": [
    "import random\n",
    "\n",
    "n_samples = 5\n",
    "\n",
    "for _ in range(n_samples):\n",
    "    i = random.choice(range(df_rating.shape[0]))\n",
    "    print(f\"REVIEW TEXT:\\n{df_rating['reviewText'][i]} \\n\\nRATE:\\n{df_rating['overall'][i]}\")\n",
    "    print('\\n', 90*\"-\", '\\n')"
   ]
  },
  {
   "cell_type": "markdown",
   "id": "ac944c1b",
   "metadata": {},
   "source": [
    "## breakdown into 3 catergory"
   ]
  },
  {
   "cell_type": "code",
   "execution_count": 18,
   "id": "3f7f8110",
   "metadata": {},
   "outputs": [
    {
     "name": "stderr",
     "output_type": "stream",
     "text": [
      "/var/folders/wr/lm1p5z3s07x_rf77nv7d_zdr0000gn/T/ipykernel_9126/2989913691.py:1: SettingWithCopyWarning: \n",
      "A value is trying to be set on a copy of a slice from a DataFrame.\n",
      "Try using .loc[row_indexer,col_indexer] = value instead\n",
      "\n",
      "See the caveats in the documentation: https://pandas.pydata.org/pandas-docs/stable/user_guide/indexing.html#returning-a-view-versus-a-copy\n",
      "  df_rating['Sentiment_Type']=''\n"
     ]
    }
   ],
   "source": [
    "df_rating['Sentiment_Type']=''\n",
    "df_rating.loc[df.overall>3,'Sentiment_Type']='POSITIVE'\n",
    "df_rating.loc[df.overall==3,'Sentiment_Type']='NEUTRAL'\n",
    "df_rating.loc[df.overall<3,'Sentiment_Type']='NEGATIVE'"
   ]
  },
  {
   "cell_type": "code",
   "execution_count": 19,
   "id": "0101ce12",
   "metadata": {},
   "outputs": [
    {
     "data": {
      "text/html": [
       "<div>\n",
       "<style scoped>\n",
       "    .dataframe tbody tr th:only-of-type {\n",
       "        vertical-align: middle;\n",
       "    }\n",
       "\n",
       "    .dataframe tbody tr th {\n",
       "        vertical-align: top;\n",
       "    }\n",
       "\n",
       "    .dataframe thead th {\n",
       "        text-align: right;\n",
       "    }\n",
       "</style>\n",
       "<table border=\"1\" class=\"dataframe\">\n",
       "  <thead>\n",
       "    <tr style=\"text-align: right;\">\n",
       "      <th></th>\n",
       "      <th>reviewText</th>\n",
       "      <th>overall</th>\n",
       "      <th>Sentiment_Type</th>\n",
       "    </tr>\n",
       "  </thead>\n",
       "  <tbody>\n",
       "    <tr>\n",
       "      <th>0</th>\n",
       "      <td>The materials arrived early and were in excell...</td>\n",
       "      <td>4</td>\n",
       "      <td>POSITIVE</td>\n",
       "    </tr>\n",
       "    <tr>\n",
       "      <th>1</th>\n",
       "      <td>I am really enjoying this book with the worksh...</td>\n",
       "      <td>4</td>\n",
       "      <td>POSITIVE</td>\n",
       "    </tr>\n",
       "    <tr>\n",
       "      <th>2</th>\n",
       "      <td>IF YOU ARE TAKING THIS CLASS DON\"T WASTE YOUR ...</td>\n",
       "      <td>1</td>\n",
       "      <td>NEGATIVE</td>\n",
       "    </tr>\n",
       "    <tr>\n",
       "      <th>3</th>\n",
       "      <td>This book was missing pages!!! Important pages...</td>\n",
       "      <td>3</td>\n",
       "      <td>NEUTRAL</td>\n",
       "    </tr>\n",
       "    <tr>\n",
       "      <th>4</th>\n",
       "      <td>I have used LearnSmart and can officially say ...</td>\n",
       "      <td>5</td>\n",
       "      <td>POSITIVE</td>\n",
       "    </tr>\n",
       "  </tbody>\n",
       "</table>\n",
       "</div>"
      ],
      "text/plain": [
       "                                          reviewText  overall Sentiment_Type\n",
       "0  The materials arrived early and were in excell...        4       POSITIVE\n",
       "1  I am really enjoying this book with the worksh...        4       POSITIVE\n",
       "2  IF YOU ARE TAKING THIS CLASS DON\"T WASTE YOUR ...        1       NEGATIVE\n",
       "3  This book was missing pages!!! Important pages...        3        NEUTRAL\n",
       "4  I have used LearnSmart and can officially say ...        5       POSITIVE"
      ]
     },
     "execution_count": 19,
     "metadata": {},
     "output_type": "execute_result"
    }
   ],
   "source": [
    "df_rating.head()"
   ]
  },
  {
   "cell_type": "code",
   "execution_count": 20,
   "id": "0472755a",
   "metadata": {},
   "outputs": [
    {
     "data": {
      "image/png": "[encoded data removed]",
      "text/plain": [
       "<Figure size 576x576 with 1 Axes>"
      ]
     },
     "metadata": {},
     "output_type": "display_data"
    }
   ],
   "source": [
    "plt.figure(figsize = (8, 8))\n",
    "\n",
    "labels = ['POSITIVE','NEUTRAL', 'NEGATIVE']\n",
    "plt.pie(df_rating['Sentiment_Type'].value_counts(), autopct='%0.2f%%')\n",
    "\n",
    "plt.title('Distribution of sentiment', size=14, y=-0.01)\n",
    "plt.legend(labels, ncol=2, loc=9)\n",
    "plt.show()"
   ]
  },
  {
   "cell_type": "markdown",
   "id": "a2e001e8",
   "metadata": {},
   "source": [
    "## Remove null? to fix the float text for doing join()"
   ]
  },
  {
   "cell_type": "code",
   "execution_count": 21,
   "id": "ffea62f1",
   "metadata": {},
   "outputs": [
    {
     "name": "stderr",
     "output_type": "stream",
     "text": [
      "/var/folders/wr/lm1p5z3s07x_rf77nv7d_zdr0000gn/T/ipykernel_9126/2236577293.py:1: SettingWithCopyWarning: \n",
      "A value is trying to be set on a copy of a slice from a DataFrame\n",
      "\n",
      "See the caveats in the documentation: https://pandas.pydata.org/pandas-docs/stable/user_guide/indexing.html#returning-a-view-versus-a-copy\n",
      "  df_rating.dropna(inplace=True)\n"
     ]
    },
    {
     "data": {
      "text/plain": [
       "reviewText        0\n",
       "overall           0\n",
       "Sentiment_Type    0\n",
       "dtype: int64"
      ]
     },
     "execution_count": 21,
     "metadata": {},
     "output_type": "execute_result"
    }
   ],
   "source": [
    "df_rating.dropna(inplace=True)\n",
    "df_rating.isnull().sum()"
   ]
  },
  {
   "cell_type": "markdown",
   "id": "8a774a4b",
   "metadata": {},
   "source": [
    "## create function to clean text\n",
    "\n",
    "ref: https://www.ling.upenn.edu/courses/Fall_2003/ling001/penn_treebank_pos.html\n"
   ]
  },
  {
   "cell_type": "code",
   "execution_count": 22,
   "id": "1fa8bb64",
   "metadata": {},
   "outputs": [],
   "source": [
    "def clean_text(text:str):\n",
    "    \"\"\" Return cleaned text:\n",
    "            - lowercase\n",
    "            - remove whitespaces\n",
    "            - remove HTML tags\n",
    "            - replace digit with spaces\n",
    "            - replace punctuations with spaces\n",
    "            - remove extra spaces and tabs\n",
    "        ------\n",
    "        input: text (str)    \n",
    "        output: cleaned text (str)\n",
    "    \"\"\"\n",
    "    text = str(text)\n",
    "    \n",
    "    text = text.lower()\n",
    "    text = text.strip()\n",
    "    \n",
    "    text = re.sub(' \\d+', ' ', text)\n",
    "    text = re.compile('<.*?>()').sub('', text)\n",
    "    text = re.compile('[%s]' % re.escape(string.punctuation)).sub(' ', text)\n",
    "    text = re.sub('\\s+', ' ', text)\n",
    "    \n",
    "    text = text.strip()\n",
    "    \n",
    "    return text"
   ]
  },
  {
   "cell_type": "code",
   "execution_count": null,
   "id": "50e2edad",
   "metadata": {},
   "outputs": [],
   "source": []
  },
  {
   "cell_type": "code",
   "execution_count": 23,
   "id": "db01e5ee",
   "metadata": {},
   "outputs": [],
   "source": [
    "def remove_stopwords(text:str):\n",
    "    \"\"\" Remove stopwords from text:\n",
    "        ------\n",
    "        input: text (str)    \n",
    "        output: cleaned text (str)\n",
    "    \"\"\"\n",
    "    text = str(text)\n",
    "    filtered_sentence = []\n",
    "\n",
    "    # Stop word lists can be adjusted for your problem\n",
    "    stop_words = [\"a\", \"an\", \"the\", \"this\", \"that\", \"is\", \"it\", \"to\", \"and\", \"i\", \"be\", \"have\", \"of\", \"you\", \"for\", \"my\", \"in\", \"with\", \"use\" ]\n",
    "\n",
    "    # Tokenize the sentence\n",
    "    words = word_tokenize(text)\n",
    "    for w in words:\n",
    "        if w not in stop_words:\n",
    "            filtered_sentence.append(w)\n",
    "    text = \" \".join(filtered_sentence)\n",
    "    \n",
    "    return text"
   ]
  },
  {
   "cell_type": "code",
   "execution_count": 24,
   "id": "70981e5b",
   "metadata": {},
   "outputs": [],
   "source": [
    "# This is a helper function to map NTLK position tags\n",
    "\n",
    "def get_wordnet_pos(tag):\n",
    "    if tag.startswith('J'):\n",
    "        return wordnet.ADJ\n",
    "    elif tag.startswith('V'):\n",
    "        return wordnet.VERB\n",
    "    elif tag.startswith('N'):\n",
    "        return wordnet.NOUN\n",
    "    elif tag.startswith('R'):\n",
    "        return wordnet.ADV\n",
    "    else:\n",
    "        return wordnet.NOUN"
   ]
  },
  {
   "cell_type": "code",
   "execution_count": 25,
   "id": "1b994ebe",
   "metadata": {},
   "outputs": [],
   "source": [
    "def lemmatize(text:str):\n",
    "    \"\"\" lemmatize text:\n",
    "    ------\n",
    "    input: text (str)    \n",
    "    output: lemmatized text (str)\n",
    "    \"\"\"\n",
    "    text = str(text)\n",
    "    \n",
    "    # Initialize the lemmatizer\n",
    "    wl = WordNetLemmatizer()\n",
    "\n",
    "    lemmatized_sentence = []\n",
    "\n",
    "    # Tokenize the sentence\n",
    "    words = word_tokenize(text)\n",
    "    # Get position tags\n",
    "    word_pos_tags = nltk.pos_tag(words)\n",
    "    # Map the position tag and lemmatize the word/token\n",
    "    for idx, tag in enumerate(word_pos_tags):\n",
    "        lemmatized_sentence.append(wl.lemmatize(tag[0], get_wordnet_pos(tag[1])))\n",
    "\n",
    "    lemmatized_text = \" \".join(lemmatized_sentence)\n",
    "    \n",
    "    return lemmatized_text"
   ]
  },
  {
   "cell_type": "markdown",
   "id": "ee695117",
   "metadata": {},
   "source": [
    "## Clean the review text"
   ]
  },
  {
   "cell_type": "code",
   "execution_count": null,
   "id": "5aa5c4a7",
   "metadata": {},
   "outputs": [
    {
     "name": "stderr",
     "output_type": "stream",
     "text": [
      "/var/folders/wr/lm1p5z3s07x_rf77nv7d_zdr0000gn/T/ipykernel_9126/2990074714.py:1: SettingWithCopyWarning: \n",
      "A value is trying to be set on a copy of a slice from a DataFrame.\n",
      "Try using .loc[row_indexer,col_indexer] = value instead\n",
      "\n",
      "See the caveats in the documentation: https://pandas.pydata.org/pandas-docs/stable/user_guide/indexing.html#returning-a-view-versus-a-copy\n",
      "  df_rating['text'] = df_rating['reviewText'].apply(clean_text)\n",
      "/var/folders/wr/lm1p5z3s07x_rf77nv7d_zdr0000gn/T/ipykernel_9126/2990074714.py:3: SettingWithCopyWarning: \n",
      "A value is trying to be set on a copy of a slice from a DataFrame.\n",
      "Try using .loc[row_indexer,col_indexer] = value instead\n",
      "\n",
      "See the caveats in the documentation: https://pandas.pydata.org/pandas-docs/stable/user_guide/indexing.html#returning-a-view-versus-a-copy\n",
      "  df_rating['text'] = df_rating['text'].apply(remove_stopwords)\n"
     ]
    }
   ],
   "source": [
    "\n",
    "df_rating['text'] = df_rating['reviewText'].apply(clean_text)\n",
    "\n",
    "df_rating['text'] = df_rating['text'].apply(remove_stopwords)\n",
    "\n",
    "df_rating['text'] = df_rating['text'].apply(lemmatize)"
   ]
  },
  {
   "cell_type": "code",
   "execution_count": null,
   "id": "021b8ddf",
   "metadata": {},
   "outputs": [],
   "source": [
    "all_words = pd.Series(' '.join(df_rating['text']).split())"
   ]
  },
  {
   "cell_type": "code",
   "execution_count": null,
   "id": "cc3e46f9",
   "metadata": {},
   "outputs": [],
   "source": [
    "\n",
    "all_words.value_counts()"
   ]
  },
  {
   "cell_type": "markdown",
   "id": "11386666",
   "metadata": {},
   "source": [
    "## Spacy module!"
   ]
  },
  {
   "cell_type": "code",
   "execution_count": null,
   "id": "f074e2de",
   "metadata": {},
   "outputs": [],
   "source": [
    "wordcloud = WordCloud(width = 1000, height = 500).generate(' '.join(all_words))\n",
    "\n",
    "plt.figure(figsize=(15,8))\n",
    "\n",
    "plt.imshow(wordcloud)\n",
    "plt.title(\"Most used words in all reviews\", size=16)\n",
    "\n",
    "plt.axis(\"off\")\n",
    "plt.show()"
   ]
  },
  {
   "cell_type": "code",
   "execution_count": null,
   "id": "88a363d2",
   "metadata": {},
   "outputs": [],
   "source": [
    "positiveWords = pd.Series(' '.join(df_rating[df_rating['Sentiment_Type']=='POSITIVE']['text']).split())"
   ]
  },
  {
   "cell_type": "code",
   "execution_count": null,
   "id": "aea43b9b",
   "metadata": {},
   "outputs": [],
   "source": [
    "wordcloud = WordCloud(width = 1000, height = 500).generate(' '.join(positiveWords))\n",
    "\n",
    "plt.figure(figsize=(15,8))\n",
    "\n",
    "plt.imshow(wordcloud)\n",
    "plt.title(\"Most used positive Words in all reviews\", size=16)\n",
    "\n",
    "plt.axis(\"off\")\n",
    "plt.show()"
   ]
  },
  {
   "cell_type": "code",
   "execution_count": null,
   "id": "ddcb9027",
   "metadata": {},
   "outputs": [],
   "source": [
    "negativeWords = pd.Series(' '.join(df_rating[df_rating['Sentiment_Type']=='NEGATIVE']['text']).split())"
   ]
  },
  {
   "cell_type": "code",
   "execution_count": null,
   "id": "63a4f62c",
   "metadata": {},
   "outputs": [],
   "source": [
    "wordcloud = WordCloud(width = 1000, height = 500).generate(' '.join(negativeWords))\n",
    "\n",
    "plt.figure(figsize=(15,8))\n",
    "\n",
    "plt.imshow(wordcloud)\n",
    "plt.title(\"Most used negative Words in all reviews\", size=16)\n",
    "\n",
    "plt.axis(\"off\")\n",
    "plt.show()"
   ]
  },
  {
   "cell_type": "code",
   "execution_count": null,
   "id": "8aff5bdd",
   "metadata": {},
   "outputs": [],
   "source": [
    "neutralWords = pd.Series(' '.join(df_rating[df_rating['Sentiment_Type']=='NEUTRAL']['text']).split())"
   ]
  },
  {
   "cell_type": "code",
   "execution_count": null,
   "id": "3c8cc16f",
   "metadata": {},
   "outputs": [],
   "source": [
    "wordcloud = WordCloud(width = 1000, height = 500).generate(' '.join(neutralWords))\n",
    "\n",
    "plt.figure(figsize=(15,8))\n",
    "\n",
    "plt.imshow(wordcloud)\n",
    "plt.title(\"Most used neutral Words in all reviews\", size=16)\n",
    "\n",
    "plt.axis(\"off\")\n",
    "plt.show()"
   ]
  },
  {
   "cell_type": "code",
   "execution_count": null,
   "id": "56dd575b",
   "metadata": {},
   "outputs": [],
   "source": [
    "sr_all_words = pd.Series(all_words)\n",
    "  "
   ]
  },
  {
   "cell_type": "code",
   "execution_count": null,
   "id": "e42c7a45",
   "metadata": {},
   "outputs": [],
   "source": [
    "sr_all_words.value_counts().head(10)"
   ]
  },
  {
   "cell_type": "code",
   "execution_count": null,
   "id": "d5847d51",
   "metadata": {},
   "outputs": [],
   "source": [
    "sr_positive = pd.Series(positiveWords)"
   ]
  },
  {
   "cell_type": "code",
   "execution_count": null,
   "id": "02893214",
   "metadata": {},
   "outputs": [],
   "source": [
    "sr_positive.value_counts().head(10)"
   ]
  },
  {
   "cell_type": "code",
   "execution_count": null,
   "id": "29020a1c",
   "metadata": {},
   "outputs": [],
   "source": [
    "sr_negative = pd.Series(negativeWords)"
   ]
  },
  {
   "cell_type": "code",
   "execution_count": null,
   "id": "2c58ec31",
   "metadata": {},
   "outputs": [],
   "source": [
    "sr_negative.value_counts().head(10)"
   ]
  },
  {
   "cell_type": "code",
   "execution_count": null,
   "id": "7e306ff4",
   "metadata": {},
   "outputs": [],
   "source": [
    "sr_neutral = pd.Series(neutralWords)"
   ]
  },
  {
   "cell_type": "code",
   "execution_count": null,
   "id": "a4e51b5f",
   "metadata": {},
   "outputs": [],
   "source": [
    "sr_neutral.value_counts().head(10)"
   ]
  },
  {
   "cell_type": "markdown",
   "id": "7ea16df1",
   "metadata": {},
   "source": [
    "## cont...."
   ]
  },
  {
   "cell_type": "code",
   "execution_count": null,
   "id": "85232d1e",
   "metadata": {},
   "outputs": [],
   "source": [
    "df_rating"
   ]
  },
  {
   "cell_type": "code",
   "execution_count": null,
   "id": "e4c1dca1",
   "metadata": {},
   "outputs": [],
   "source": [
    "df_rating_review = df_rating[[\"text\",\"Sentiment_Type\"]]\n",
    "df_rating_review.head()"
   ]
  },
  {
   "cell_type": "code",
   "execution_count": null,
   "id": "9d104f67",
   "metadata": {},
   "outputs": [],
   "source": [
    "from sklearn.preprocessing import OneHotEncoder\n",
    "\n",
    "type_one_hot = OneHotEncoder(sparse=False).fit_transform(\n",
    "  df_rating_review.Sentiment_Type.to_numpy().reshape(-1, 1)\n",
    ")"
   ]
  },
  {
   "cell_type": "code",
   "execution_count": null,
   "id": "f1f6bb2f",
   "metadata": {},
   "outputs": [],
   "source": [
    "from sklearn.model_selection import train_test_split\n",
    "\n",
    "train_reviews, test_reviews, y_train, y_test =\\\n",
    "  train_test_split(\n",
    "    df_rating_review.text, \n",
    "    type_one_hot, \n",
    "    test_size=.1, \n",
    "    random_state=42\n",
    "  )"
   ]
  },
  {
   "cell_type": "code",
   "execution_count": null,
   "id": "b6d32392",
   "metadata": {},
   "outputs": [],
   "source": [
    "from tqdm import tqdm\n",
    "\n",
    "X_train = []\n",
    "for r in tqdm(train_reviews):\n",
    "  emb = USE(r)\n",
    "  review_emb = tf.reshape(emb, [-1]).numpy()\n",
    "  X_train.append(review_emb)\n",
    "\n",
    "X_train = np.array(X_train)\n",
    "\n",
    "X_test = []\n",
    "for r in tqdm(test_reviews):\n",
    "  emb = USE(r)\n",
    "  review_emb = tf.reshape(emb, [-1]).numpy()\n",
    "  X_test.append(review_emb)\n",
    "\n",
    "X_test = np.array(X_test)"
   ]
  },
  {
   "cell_type": "code",
   "execution_count": null,
   "id": "a3743bdc",
   "metadata": {},
   "outputs": [],
   "source": []
  }
 ],
 "metadata": {
  "kernelspec": {
   "display_name": "Python 3 (ipykernel)",
   "language": "python",
   "name": "python3"
  },
  "language_info": {
   "codemirror_mode": {
    "name": "ipython",
    "version": 3
   },
   "file_extension": ".py",
   "mimetype": "text/x-python",
   "name": "python",
   "nbconvert_exporter": "python",
   "pygments_lexer": "ipython3",
   "version": "3.9.12"
  }
 },
 "nbformat": 4,
 "nbformat_minor": 5
}
